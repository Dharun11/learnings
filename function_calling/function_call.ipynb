{
 "cells": [
  {
   "cell_type": "code",
   "execution_count": 2,
   "id": "24746741",
   "metadata": {},
   "outputs": [
    {
     "data": {
      "text/plain": [
       "True"
      ]
     },
     "execution_count": 2,
     "metadata": {},
     "output_type": "execute_result"
    }
   ],
   "source": [
    "from openai import AzureOpenAI\n",
    "from dotenv import load_dotenv\n",
    "import os\n",
    "load_dotenv()\n"
   ]
  },
  {
   "cell_type": "code",
   "execution_count": 5,
   "id": "5b5ca518",
   "metadata": {},
   "outputs": [],
   "source": [
    "api_key=os.getenv(\"AZURE_OPENAI_API_KEY\")\n",
    "api_base=os.getenv(\"AZURE_OPENAI_API_BASE\")\n",
    "api_version=os.getenv(\"AZURE_OPENAI_API_VERSION\")\n",
    "deployment_name=os.getenv(\"AZURE_OPENAI_DEPLOYMENT_NAME\")"
   ]
  },
  {
   "cell_type": "code",
   "execution_count": 7,
   "id": "3856813d",
   "metadata": {},
   "outputs": [],
   "source": [
    "client = AzureOpenAI(\n",
    "    api_key=api_key,\n",
    "    azure_endpoint=api_base,\n",
    "    api_version=api_version,\n",
    ")"
   ]
  },
  {
   "cell_type": "code",
   "execution_count": 25,
   "id": "2fb7aba3",
   "metadata": {},
   "outputs": [],
   "source": [
    "import requests\n",
    "\n",
    "url = \"https://weather-api167.p.rapidapi.com/api/weather/forecast\"\n",
    "\n",
    "#querystring = {\"place\":\"London,GB\",\"cnt\":\"3\",\"units\":\"standard\",\"type\":\"three_hour\",\"mode\":\"json\",\"lang\":\"en\"}\n",
    "def get_weather_forecast(place):\n",
    "    \n",
    "\theaders = {\n",
    "\t\t\"x-rapidapi-key\": \"80d7af33d9msh609e1f9303a6028p168c98jsn7a62ffe84df7\",\n",
    "\t\t\"x-rapidapi-host\": \"weather-api167.p.rapidapi.com\",\n",
    "\t\t\"Accept\": \"application/json\"\n",
    "\t}\n",
    "\tquerystring = {\"place\": place, \"cnt\": \"3\", \"units\": \"standard\", \"type\": \"three_hour\", \"mode\": \"json\", \"lang\": \"en\"}\n",
    "\n",
    "\tresponse = requests.get(url, headers=headers, params=querystring)\n",
    "\n",
    "\treturn response.json()\n"
   ]
  },
  {
   "cell_type": "code",
   "execution_count": 30,
   "id": "5b4d226e",
   "metadata": {},
   "outputs": [],
   "source": [
    "weather_result=get_weather_forecast(\"trichy\")"
   ]
  },
  {
   "cell_type": "code",
   "execution_count": 31,
   "id": "052ab30c",
   "metadata": {},
   "outputs": [
    {
     "data": {
      "text/plain": [
       "{'cod': '200',\n",
       " 'message': 0,\n",
       " 'cnt': 3,\n",
       " 'list': [{'dt': 1751209200,\n",
       "   'summery': 'light rain, 306.17K, feels like 309.2K, winds 3.28 meter/sec from West, 49% humidity',\n",
       "   'main': {'temprature': 306.17,\n",
       "    'temprature_feels_like': 309.2,\n",
       "    'temprature_min': 304.23,\n",
       "    'temprature_max': 306.17,\n",
       "    'temprature_unit': 'K',\n",
       "    'pressure': 1007,\n",
       "    'sea_level_pressure': 1007,\n",
       "    'ground_level_pressure': 997,\n",
       "    'pressure_unit': 'hPa',\n",
       "    'humidity': 49,\n",
       "    'humidity_unit': '%',\n",
       "    'temp_kf': 1.94},\n",
       "   'weather': [{'id': 500,\n",
       "     'main': 'Rain',\n",
       "     'description': 'light rain',\n",
       "     'icon': 'https://openweathermap.org/img/wn/10n@2x.png'}],\n",
       "   'clouds': {'cloudiness': 40, 'unit': '%'},\n",
       "   'wind': {'speed': 3.28,\n",
       "    'degrees': 268,\n",
       "    'direction': 'West',\n",
       "    'gust_speed': 6.8,\n",
       "    'speed_unit': 'meter/sec'},\n",
       "   'visibility_distance': 10000,\n",
       "   'visibility_unit': 'm',\n",
       "   'probability_of_precipitation': 57.99999999999999,\n",
       "   'probability_of_precipitation_unit': '%',\n",
       "   'rain': {'amount': 0.38, 'unit': 'mm in the last 3 hour'},\n",
       "   'snow': {'amount': 0, 'unit': 'mm in the last 3 hour'},\n",
       "   'sys': {'part_of_day': 'night'},\n",
       "   'dt_txt': '2025-06-29 15:00:00'},\n",
       "  {'dt': 1751220000,\n",
       "   'summery': 'broken clouds, 304.96K, feels like 307.4K, winds 5.08 meter/sec from West, 51% humidity',\n",
       "   'main': {'temprature': 304.96,\n",
       "    'temprature_feels_like': 307.4,\n",
       "    'temprature_min': 302.53,\n",
       "    'temprature_max': 304.96,\n",
       "    'temprature_unit': 'K',\n",
       "    'pressure': 1007,\n",
       "    'sea_level_pressure': 1007,\n",
       "    'ground_level_pressure': 998,\n",
       "    'pressure_unit': 'hPa',\n",
       "    'humidity': 51,\n",
       "    'humidity_unit': '%',\n",
       "    'temp_kf': 2.43},\n",
       "   'weather': [{'id': 803,\n",
       "     'main': 'Clouds',\n",
       "     'description': 'broken clouds',\n",
       "     'icon': 'https://openweathermap.org/img/wn/04n@2x.png'}],\n",
       "   'clouds': {'cloudiness': 56, 'unit': '%'},\n",
       "   'wind': {'speed': 5.08,\n",
       "    'degrees': 278,\n",
       "    'direction': 'West',\n",
       "    'gust_speed': 9.12,\n",
       "    'speed_unit': 'meter/sec'},\n",
       "   'visibility_distance': 10000,\n",
       "   'visibility_unit': 'm',\n",
       "   'probability_of_precipitation': 47,\n",
       "   'probability_of_precipitation_unit': '%',\n",
       "   'rain': {'amount': 0, 'unit': 'mm in the last 3 hour'},\n",
       "   'snow': {'amount': 0, 'unit': 'mm in the last 3 hour'},\n",
       "   'sys': {'part_of_day': 'night'},\n",
       "   'dt_txt': '2025-06-29 18:00:00'},\n",
       "  {'dt': 1751230800,\n",
       "   'summery': 'broken clouds, 302.31K, feels like 304.14K, winds 7 meter/sec from West-Northwest, 58% humidity',\n",
       "   'main': {'temprature': 302.31,\n",
       "    'temprature_feels_like': 304.14,\n",
       "    'temprature_min': 300.38,\n",
       "    'temprature_max': 302.31,\n",
       "    'temprature_unit': 'K',\n",
       "    'pressure': 1006,\n",
       "    'sea_level_pressure': 1006,\n",
       "    'ground_level_pressure': 996,\n",
       "    'pressure_unit': 'hPa',\n",
       "    'humidity': 58,\n",
       "    'humidity_unit': '%',\n",
       "    'temp_kf': 1.93},\n",
       "   'weather': [{'id': 803,\n",
       "     'main': 'Clouds',\n",
       "     'description': 'broken clouds',\n",
       "     'icon': 'https://openweathermap.org/img/wn/04n@2x.png'}],\n",
       "   'clouds': {'cloudiness': 75, 'unit': '%'},\n",
       "   'wind': {'speed': 7,\n",
       "    'degrees': 292,\n",
       "    'direction': 'West-Northwest',\n",
       "    'gust_speed': 12.04,\n",
       "    'speed_unit': 'meter/sec'},\n",
       "   'visibility_distance': 10000,\n",
       "   'visibility_unit': 'm',\n",
       "   'probability_of_precipitation': 0,\n",
       "   'probability_of_precipitation_unit': '%',\n",
       "   'rain': {'amount': 0, 'unit': 'mm in the last 3 hour'},\n",
       "   'snow': {'amount': 0, 'unit': 'mm in the last 3 hour'},\n",
       "   'sys': {'part_of_day': 'night'},\n",
       "   'dt_txt': '2025-06-29 21:00:00'}],\n",
       " 'city': {'id': 7603116,\n",
       "  'name': 'Trichy',\n",
       "  'coord': {'lat': 10.805, 'lon': 78.687},\n",
       "  'country': 'IN',\n",
       "  'population': 0,\n",
       "  'timezone': 19800,\n",
       "  'sunrise': 1751156764,\n",
       "  'sunrise_txt': '2025-06-29T00:26:04.000Z',\n",
       "  'sunset': 1751202663,\n",
       "  'sunset_txt': '2025-06-29T13:11:03.000Z'}}"
      ]
     },
     "execution_count": 31,
     "metadata": {},
     "output_type": "execute_result"
    }
   ],
   "source": [
    "weather_result"
   ]
  },
  {
   "cell_type": "code",
   "execution_count": 41,
   "id": "7133b730",
   "metadata": {},
   "outputs": [],
   "source": [
    "\n",
    "def call_llm(query,function):\n",
    "    \n",
    "    result=client.chat.completions.create(\n",
    "        model=deployment_name,\n",
    "        messages=[\n",
    "            {\n",
    "                \"role\": \"system\",\n",
    "                \"content\": \"You are a helpful assistant that provides weather information.\"\n",
    "            },\n",
    "            {\n",
    "                \"role\": \"user\",\n",
    "                \"content\": {query}\n",
    "            }\n",
    "        ],\n",
    "        max_tokens=2048\n",
    "        ).choices[0].message.content.strip()\n",
    "    \n",
    "    return result"
   ]
  },
  {
   "cell_type": "markdown",
   "id": "2fd0d38f",
   "metadata": {},
   "source": [
    "## Defining function "
   ]
  },
  {
   "cell_type": "code",
   "execution_count": 62,
   "id": "44b2f6f8",
   "metadata": {},
   "outputs": [],
   "source": [
    "tools = [\n",
    "    {\n",
    "        \"type\": \"function\",\n",
    "        \"function\": {  # <-- Nest the function definition here\n",
    "            \"name\": \"get_weather_forecast\",\n",
    "            \"description\": \"Get current weather for a given location.\",\n",
    "            \"parameters\": {\n",
    "                \"type\": \"object\",\n",
    "                \"properties\": {\n",
    "                    \"location\": {\n",
    "                        \"type\": \"string\",\n",
    "                        \"description\": \"City and country e.g. Bogotá, Colombia\"\n",
    "                    }\n",
    "                },\n",
    "                \"required\": [\"location\"],\n",
    "                \"additionalProperties\": False\n",
    "            }\n",
    "        }\n",
    "    }\n",
    "]\n"
   ]
  },
  {
   "cell_type": "code",
   "execution_count": 93,
   "id": "e2982eee",
   "metadata": {},
   "outputs": [],
   "source": [
    "def call_llm(query):\n",
    "    result = client.chat.completions.create(\n",
    "        model=deployment_name,\n",
    "        messages=[\n",
    "            {\"role\": \"user\", \"content\": query}\n",
    "        ],\n",
    "        max_tokens=2048,\n",
    "        tools=tools,\n",
    "        tool_choice=\"auto\",\n",
    "    )\n",
    "    \n",
    "    \n",
    "    message = result.choices[0].message\n",
    "    \n",
    "\n",
    "    if message.content:\n",
    "        # Model replied directly\n",
    "        return message.content\n",
    "    \n",
    "    # Check for function call/tool call\n",
    "    if hasattr(message, \"tool_calls\") and message.tool_calls:\n",
    "        # For OpenAI: message.tool_calls is a list\n",
    "        function_call = message.tool_calls[0]\n",
    "        function_name = function_call.function.name\n",
    "        function_args = function_call.function.arguments\n",
    "        return f\"Function call requested: {function_name}({function_args})\",message\n",
    "    \n",
    "    # For older OpenAI API, it may be message.function_call\n",
    "    if hasattr(message, \"function_call\") and message.function_call:\n",
    "        return f\"Function call requested: {message.function_call}\"\n",
    "    \n",
    "    return \"No response content or function call found.\"\n"
   ]
  },
  {
   "cell_type": "code",
   "execution_count": 94,
   "id": "13a825a4",
   "metadata": {},
   "outputs": [],
   "source": [
    "res,message=call_llm(\"What is the weather forecast for Trichy?\")"
   ]
  },
  {
   "cell_type": "code",
   "execution_count": 95,
   "id": "81e6a965",
   "metadata": {},
   "outputs": [
    {
     "data": {
      "text/plain": [
       "'Function call requested: get_weather_forecast({\"location\":\"Trichy, India\"})'"
      ]
     },
     "execution_count": 95,
     "metadata": {},
     "output_type": "execute_result"
    }
   ],
   "source": [
    "res"
   ]
  },
  {
   "cell_type": "code",
   "execution_count": 96,
   "id": "73401cdb",
   "metadata": {},
   "outputs": [
    {
     "data": {
      "text/plain": [
       "ChatCompletionMessage(content=None, refusal=None, role='assistant', annotations=[], audio=None, function_call=None, tool_calls=[ChatCompletionMessageToolCall(id='call_lZmVj8UWEFhI5J1GVScBq8KB', function=Function(arguments='{\"location\":\"Trichy, India\"}', name='get_weather_forecast'), type='function')])"
      ]
     },
     "execution_count": 96,
     "metadata": {},
     "output_type": "execute_result"
    }
   ],
   "source": [
    "message"
   ]
  },
  {
   "cell_type": "code",
   "execution_count": 99,
   "id": "720b2b14",
   "metadata": {},
   "outputs": [
    {
     "name": "stdout",
     "output_type": "stream",
     "text": [
      "ChatCompletionMessageToolCall(id='call_lZmVj8UWEFhI5J1GVScBq8KB', function=Function(arguments='{\"location\":\"Trichy, India\"}', name='get_weather_forecast'), type='function')\n",
      "get_weather_forecast\n",
      "Trichy, India\n",
      "{'cod': '200', 'message': 0, 'cnt': 3, 'list': [{'dt': 1751252400, 'summery': 'scattered clouds, 303.17K, feels like 308.24K, winds 8.09 meter/sec from West-Northwest, 70% humidity', 'main': {'temprature': 303.17, 'temprature_feels_like': 308.24, 'temprature_min': 303.17, 'temprature_max': 303.32, 'temprature_unit': 'K', 'pressure': 1007, 'sea_level_pressure': 1007, 'ground_level_pressure': 998, 'pressure_unit': 'hPa', 'humidity': 70, 'humidity_unit': '%', 'temp_kf': -0.15}, 'weather': [{'id': 802, 'main': 'Clouds', 'description': 'scattered clouds', 'icon': 'https://openweathermap.org/img/wn/03d@2x.png'}], 'clouds': {'cloudiness': 40, 'unit': '%'}, 'wind': {'speed': 8.09, 'degrees': 286, 'direction': 'West-Northwest', 'gust_speed': 9.61, 'speed_unit': 'meter/sec'}, 'visibility_distance': 10000, 'visibility_unit': 'm', 'probability_of_precipitation': 0, 'probability_of_precipitation_unit': '%', 'rain': {'amount': 0, 'unit': 'mm in the last 3 hour'}, 'snow': {'amount': 0, 'unit': 'mm in the last 3 hour'}, 'sys': {'part_of_day': 'day'}, 'dt_txt': '2025-06-30 03:00:00'}, {'dt': 1751263200, 'summery': 'scattered clouds, 304.95K, feels like 310.06K, winds 6.63 meter/sec from West-Northwest, 61% humidity', 'main': {'temprature': 304.95, 'temprature_feels_like': 310.06, 'temprature_min': 304.95, 'temprature_max': 308.52, 'temprature_unit': 'K', 'pressure': 1007, 'sea_level_pressure': 1007, 'ground_level_pressure': 997, 'pressure_unit': 'hPa', 'humidity': 61, 'humidity_unit': '%', 'temp_kf': -3.57}, 'weather': [{'id': 802, 'main': 'Clouds', 'description': 'scattered clouds', 'icon': 'https://openweathermap.org/img/wn/03d@2x.png'}], 'clouds': {'cloudiness': 46, 'unit': '%'}, 'wind': {'speed': 6.63, 'degrees': 284, 'direction': 'West-Northwest', 'gust_speed': 6.77, 'speed_unit': 'meter/sec'}, 'visibility_distance': 10000, 'visibility_unit': 'm', 'probability_of_precipitation': 0, 'probability_of_precipitation_unit': '%', 'rain': {'amount': 0, 'unit': 'mm in the last 3 hour'}, 'snow': {'amount': 0, 'unit': 'mm in the last 3 hour'}, 'sys': {'part_of_day': 'day'}, 'dt_txt': '2025-06-30 06:00:00'}, {'dt': 1751274000, 'summery': 'broken clouds, 308.47K, feels like 312.3K, winds 7.09 meter/sec from West-Northwest, 44% humidity', 'main': {'temprature': 308.47, 'temprature_feels_like': 312.3, 'temprature_min': 308.47, 'temprature_max': 311.12, 'temprature_unit': 'K', 'pressure': 1005, 'sea_level_pressure': 1005, 'ground_level_pressure': 995, 'pressure_unit': 'hPa', 'humidity': 44, 'humidity_unit': '%', 'temp_kf': -2.65}, 'weather': [{'id': 803, 'main': 'Clouds', 'description': 'broken clouds', 'icon': 'https://openweathermap.org/img/wn/04d@2x.png'}], 'clouds': {'cloudiness': 77, 'unit': '%'}, 'wind': {'speed': 7.09, 'degrees': 287, 'direction': 'West-Northwest', 'gust_speed': 7.35, 'speed_unit': 'meter/sec'}, 'visibility_distance': 10000, 'visibility_unit': 'm', 'probability_of_precipitation': 0, 'probability_of_precipitation_unit': '%', 'rain': {'amount': 0, 'unit': 'mm in the last 3 hour'}, 'snow': {'amount': 0, 'unit': 'mm in the last 3 hour'}, 'sys': {'part_of_day': 'day'}, 'dt_txt': '2025-06-30 09:00:00'}], 'city': {'id': 7603116, 'name': 'Trichy', 'coord': {'lat': 10.805, 'lon': 78.687}, 'country': 'IN', 'population': 0, 'timezone': 19800, 'sunrise': 1751243179, 'sunrise_txt': '2025-06-30T00:26:19.000Z', 'sunset': 1751289071, 'sunset_txt': '2025-06-30T13:11:11.000Z'}}\n"
     ]
    }
   ],
   "source": [
    "import json\n",
    "tool_call = message.tool_calls[0] if hasattr(message, \"tool_calls\") and message.tool_calls else message.function_call\n",
    "print(tool_call)\n",
    "args = json.loads(tool_call.function.arguments)\n",
    "function_name=tool_call.function.name\n",
    "print(function_name)\n",
    "print(args['location'])\n",
    "result = get_weather_forecast(args[\"location\"])\n",
    "print(result)"
   ]
  },
  {
   "cell_type": "markdown",
   "id": "b08465e7",
   "metadata": {},
   "source": [
    "### Must send the info on the  function call and function response to gpt"
   ]
  },
  {
   "cell_type": "code",
   "execution_count": 123,
   "id": "e909e6c8",
   "metadata": {},
   "outputs": [],
   "source": [
    "messages = [\n",
    "    {\"role\": \"user\", \"content\": \"What is the weather forecast for Trichy?\"},\n",
    "    {\n",
    "        \"role\": \"assistant\",\n",
    "        \"content\": None,\n",
    "        \"tool_calls\": [\n",
    "            {\n",
    "                \"id\": \"call_lZmVj8UWEFhI5J1GVScBq8KB\",\n",
    "                \"type\": \"function\",\n",
    "                \"function\": {\n",
    "                    \"name\": \"get_weather_forecast\",\n",
    "                    \"arguments\": '{\"location\": \"Trichy, India\"}'\n",
    "                }\n",
    "            }\n",
    "        ]\n",
    "    },\n",
    "    {\n",
    "        \"role\": \"function\",\n",
    "        \"name\": \"get_weather_forecast\",\n",
    "        \"content\": json.dumps(result),\n",
    "        \"tool_call_id\": \"call_lZmVj8UWEFhI5J1GVScBq8KB\"# e.g., the weather data as a string/JSON\n",
    "    }\n",
    "]\n"
   ]
  },
  {
   "cell_type": "code",
   "execution_count": 121,
   "id": "12864e60",
   "metadata": {},
   "outputs": [
    {
     "data": {
      "text/plain": [
       "[{'role': 'user', 'content': 'What is the weather forecast for Trichy?'},\n",
       " {'role': 'assistant',\n",
       "  'content': None,\n",
       "  'tool_calls': [{'id': 'call_lZmVj8UWEFhI5J1GVScBq8KB',\n",
       "    'type': 'function',\n",
       "    'function': {'name': 'get_weather_forecast',\n",
       "     'arguments': '{\"location\": \"Trichy, India\"}'}}]},\n",
       " {'role': 'function',\n",
       "  'name': 'get_weather_forecast',\n",
       "  'content': {'cod': '200',\n",
       "   'message': 0,\n",
       "   'cnt': 3,\n",
       "   'list': [{'dt': 1751252400,\n",
       "     'summery': 'scattered clouds, 303.17K, feels like 308.24K, winds 8.09 meter/sec from West-Northwest, 70% humidity',\n",
       "     'main': {'temprature': 303.17,\n",
       "      'temprature_feels_like': 308.24,\n",
       "      'temprature_min': 303.17,\n",
       "      'temprature_max': 303.32,\n",
       "      'temprature_unit': 'K',\n",
       "      'pressure': 1007,\n",
       "      'sea_level_pressure': 1007,\n",
       "      'ground_level_pressure': 998,\n",
       "      'pressure_unit': 'hPa',\n",
       "      'humidity': 70,\n",
       "      'humidity_unit': '%',\n",
       "      'temp_kf': -0.15},\n",
       "     'weather': [{'id': 802,\n",
       "       'main': 'Clouds',\n",
       "       'description': 'scattered clouds',\n",
       "       'icon': 'https://openweathermap.org/img/wn/03d@2x.png'}],\n",
       "     'clouds': {'cloudiness': 40, 'unit': '%'},\n",
       "     'wind': {'speed': 8.09,\n",
       "      'degrees': 286,\n",
       "      'direction': 'West-Northwest',\n",
       "      'gust_speed': 9.61,\n",
       "      'speed_unit': 'meter/sec'},\n",
       "     'visibility_distance': 10000,\n",
       "     'visibility_unit': 'm',\n",
       "     'probability_of_precipitation': 0,\n",
       "     'probability_of_precipitation_unit': '%',\n",
       "     'rain': {'amount': 0, 'unit': 'mm in the last 3 hour'},\n",
       "     'snow': {'amount': 0, 'unit': 'mm in the last 3 hour'},\n",
       "     'sys': {'part_of_day': 'day'},\n",
       "     'dt_txt': '2025-06-30 03:00:00'},\n",
       "    {'dt': 1751263200,\n",
       "     'summery': 'scattered clouds, 304.95K, feels like 310.06K, winds 6.63 meter/sec from West-Northwest, 61% humidity',\n",
       "     'main': {'temprature': 304.95,\n",
       "      'temprature_feels_like': 310.06,\n",
       "      'temprature_min': 304.95,\n",
       "      'temprature_max': 308.52,\n",
       "      'temprature_unit': 'K',\n",
       "      'pressure': 1007,\n",
       "      'sea_level_pressure': 1007,\n",
       "      'ground_level_pressure': 997,\n",
       "      'pressure_unit': 'hPa',\n",
       "      'humidity': 61,\n",
       "      'humidity_unit': '%',\n",
       "      'temp_kf': -3.57},\n",
       "     'weather': [{'id': 802,\n",
       "       'main': 'Clouds',\n",
       "       'description': 'scattered clouds',\n",
       "       'icon': 'https://openweathermap.org/img/wn/03d@2x.png'}],\n",
       "     'clouds': {'cloudiness': 46, 'unit': '%'},\n",
       "     'wind': {'speed': 6.63,\n",
       "      'degrees': 284,\n",
       "      'direction': 'West-Northwest',\n",
       "      'gust_speed': 6.77,\n",
       "      'speed_unit': 'meter/sec'},\n",
       "     'visibility_distance': 10000,\n",
       "     'visibility_unit': 'm',\n",
       "     'probability_of_precipitation': 0,\n",
       "     'probability_of_precipitation_unit': '%',\n",
       "     'rain': {'amount': 0, 'unit': 'mm in the last 3 hour'},\n",
       "     'snow': {'amount': 0, 'unit': 'mm in the last 3 hour'},\n",
       "     'sys': {'part_of_day': 'day'},\n",
       "     'dt_txt': '2025-06-30 06:00:00'},\n",
       "    {'dt': 1751274000,\n",
       "     'summery': 'broken clouds, 308.47K, feels like 312.3K, winds 7.09 meter/sec from West-Northwest, 44% humidity',\n",
       "     'main': {'temprature': 308.47,\n",
       "      'temprature_feels_like': 312.3,\n",
       "      'temprature_min': 308.47,\n",
       "      'temprature_max': 311.12,\n",
       "      'temprature_unit': 'K',\n",
       "      'pressure': 1005,\n",
       "      'sea_level_pressure': 1005,\n",
       "      'ground_level_pressure': 995,\n",
       "      'pressure_unit': 'hPa',\n",
       "      'humidity': 44,\n",
       "      'humidity_unit': '%',\n",
       "      'temp_kf': -2.65},\n",
       "     'weather': [{'id': 803,\n",
       "       'main': 'Clouds',\n",
       "       'description': 'broken clouds',\n",
       "       'icon': 'https://openweathermap.org/img/wn/04d@2x.png'}],\n",
       "     'clouds': {'cloudiness': 77, 'unit': '%'},\n",
       "     'wind': {'speed': 7.09,\n",
       "      'degrees': 287,\n",
       "      'direction': 'West-Northwest',\n",
       "      'gust_speed': 7.35,\n",
       "      'speed_unit': 'meter/sec'},\n",
       "     'visibility_distance': 10000,\n",
       "     'visibility_unit': 'm',\n",
       "     'probability_of_precipitation': 0,\n",
       "     'probability_of_precipitation_unit': '%',\n",
       "     'rain': {'amount': 0, 'unit': 'mm in the last 3 hour'},\n",
       "     'snow': {'amount': 0, 'unit': 'mm in the last 3 hour'},\n",
       "     'sys': {'part_of_day': 'day'},\n",
       "     'dt_txt': '2025-06-30 09:00:00'}],\n",
       "   'city': {'id': 7603116,\n",
       "    'name': 'Trichy',\n",
       "    'coord': {'lat': 10.805, 'lon': 78.687},\n",
       "    'country': 'IN',\n",
       "    'population': 0,\n",
       "    'timezone': 19800,\n",
       "    'sunrise': 1751243179,\n",
       "    'sunrise_txt': '2025-06-30T00:26:19.000Z',\n",
       "    'sunset': 1751289071,\n",
       "    'sunset_txt': '2025-06-30T13:11:11.000Z'}},\n",
       "  'tool_call_id': 'call_lZmVj8UWEFhI5J1GVScBq8KB'}]"
      ]
     },
     "execution_count": 121,
     "metadata": {},
     "output_type": "execute_result"
    }
   ],
   "source": [
    "messages"
   ]
  },
  {
   "cell_type": "code",
   "execution_count": 124,
   "id": "2332d556",
   "metadata": {},
   "outputs": [
    {
     "ename": "BadRequestError",
     "evalue": "Error code: 400 - {'error': {'message': \"An assistant message with 'tool_calls' must be followed by tool messages responding to each 'tool_call_id'. The following tool_call_ids did not have response messages: call_lZmVj8UWEFhI5J1GVScBq8KB\", 'type': 'invalid_request_error', 'param': 'messages.[2].role', 'code': None}}",
     "output_type": "error",
     "traceback": [
      "\u001b[31m---------------------------------------------------------------------------\u001b[39m",
      "\u001b[31mBadRequestError\u001b[39m                           Traceback (most recent call last)",
      "\u001b[36mCell\u001b[39m\u001b[36m \u001b[39m\u001b[32mIn[124]\u001b[39m\u001b[32m, line 1\u001b[39m\n\u001b[32m----> \u001b[39m\u001b[32m1\u001b[39m res_2=\u001b[43mclient\u001b[49m\u001b[43m.\u001b[49m\u001b[43mchat\u001b[49m\u001b[43m.\u001b[49m\u001b[43mcompletions\u001b[49m\u001b[43m.\u001b[49m\u001b[43mcreate\u001b[49m\u001b[43m(\u001b[49m\n\u001b[32m      2\u001b[39m \u001b[43m    \u001b[49m\u001b[43mmodel\u001b[49m\u001b[43m=\u001b[49m\u001b[43mdeployment_name\u001b[49m\u001b[43m,\u001b[49m\n\u001b[32m      3\u001b[39m \u001b[43m    \u001b[49m\u001b[43mmessages\u001b[49m\u001b[43m=\u001b[49m\u001b[43mmessages\u001b[49m\u001b[43m,\u001b[49m\n\u001b[32m      4\u001b[39m \u001b[43m    \u001b[49m\u001b[43mmax_tokens\u001b[49m\u001b[43m=\u001b[49m\u001b[32;43m2048\u001b[39;49m\u001b[43m,\u001b[49m\n\u001b[32m      5\u001b[39m \u001b[43m    \u001b[49m\u001b[43mtools\u001b[49m\u001b[43m=\u001b[49m\u001b[43mtools\u001b[49m\n\u001b[32m      6\u001b[39m \u001b[43m)\u001b[49m\n",
      "\u001b[36mFile \u001b[39m\u001b[32mc:\\Learning\\.venv\\Lib\\site-packages\\openai\\_utils\\_utils.py:287\u001b[39m, in \u001b[36mrequired_args.<locals>.inner.<locals>.wrapper\u001b[39m\u001b[34m(*args, **kwargs)\u001b[39m\n\u001b[32m    285\u001b[39m             msg = \u001b[33mf\u001b[39m\u001b[33m\"\u001b[39m\u001b[33mMissing required argument: \u001b[39m\u001b[38;5;132;01m{\u001b[39;00mquote(missing[\u001b[32m0\u001b[39m])\u001b[38;5;132;01m}\u001b[39;00m\u001b[33m\"\u001b[39m\n\u001b[32m    286\u001b[39m     \u001b[38;5;28;01mraise\u001b[39;00m \u001b[38;5;167;01mTypeError\u001b[39;00m(msg)\n\u001b[32m--> \u001b[39m\u001b[32m287\u001b[39m \u001b[38;5;28;01mreturn\u001b[39;00m \u001b[43mfunc\u001b[49m\u001b[43m(\u001b[49m\u001b[43m*\u001b[49m\u001b[43margs\u001b[49m\u001b[43m,\u001b[49m\u001b[43m \u001b[49m\u001b[43m*\u001b[49m\u001b[43m*\u001b[49m\u001b[43mkwargs\u001b[49m\u001b[43m)\u001b[49m\n",
      "\u001b[36mFile \u001b[39m\u001b[32mc:\\Learning\\.venv\\Lib\\site-packages\\openai\\resources\\chat\\completions\\completions.py:1087\u001b[39m, in \u001b[36mCompletions.create\u001b[39m\u001b[34m(self, messages, model, audio, frequency_penalty, function_call, functions, logit_bias, logprobs, max_completion_tokens, max_tokens, metadata, modalities, n, parallel_tool_calls, prediction, presence_penalty, reasoning_effort, response_format, seed, service_tier, stop, store, stream, stream_options, temperature, tool_choice, tools, top_logprobs, top_p, user, web_search_options, extra_headers, extra_query, extra_body, timeout)\u001b[39m\n\u001b[32m   1044\u001b[39m \u001b[38;5;129m@required_args\u001b[39m([\u001b[33m\"\u001b[39m\u001b[33mmessages\u001b[39m\u001b[33m\"\u001b[39m, \u001b[33m\"\u001b[39m\u001b[33mmodel\u001b[39m\u001b[33m\"\u001b[39m], [\u001b[33m\"\u001b[39m\u001b[33mmessages\u001b[39m\u001b[33m\"\u001b[39m, \u001b[33m\"\u001b[39m\u001b[33mmodel\u001b[39m\u001b[33m\"\u001b[39m, \u001b[33m\"\u001b[39m\u001b[33mstream\u001b[39m\u001b[33m\"\u001b[39m])\n\u001b[32m   1045\u001b[39m \u001b[38;5;28;01mdef\u001b[39;00m\u001b[38;5;250m \u001b[39m\u001b[34mcreate\u001b[39m(\n\u001b[32m   1046\u001b[39m     \u001b[38;5;28mself\u001b[39m,\n\u001b[32m   (...)\u001b[39m\u001b[32m   1084\u001b[39m     timeout: \u001b[38;5;28mfloat\u001b[39m | httpx.Timeout | \u001b[38;5;28;01mNone\u001b[39;00m | NotGiven = NOT_GIVEN,\n\u001b[32m   1085\u001b[39m ) -> ChatCompletion | Stream[ChatCompletionChunk]:\n\u001b[32m   1086\u001b[39m     validate_response_format(response_format)\n\u001b[32m-> \u001b[39m\u001b[32m1087\u001b[39m     \u001b[38;5;28;01mreturn\u001b[39;00m \u001b[38;5;28;43mself\u001b[39;49m\u001b[43m.\u001b[49m\u001b[43m_post\u001b[49m\u001b[43m(\u001b[49m\n\u001b[32m   1088\u001b[39m \u001b[43m        \u001b[49m\u001b[33;43m\"\u001b[39;49m\u001b[33;43m/chat/completions\u001b[39;49m\u001b[33;43m\"\u001b[39;49m\u001b[43m,\u001b[49m\n\u001b[32m   1089\u001b[39m \u001b[43m        \u001b[49m\u001b[43mbody\u001b[49m\u001b[43m=\u001b[49m\u001b[43mmaybe_transform\u001b[49m\u001b[43m(\u001b[49m\n\u001b[32m   1090\u001b[39m \u001b[43m            \u001b[49m\u001b[43m{\u001b[49m\n\u001b[32m   1091\u001b[39m \u001b[43m                \u001b[49m\u001b[33;43m\"\u001b[39;49m\u001b[33;43mmessages\u001b[39;49m\u001b[33;43m\"\u001b[39;49m\u001b[43m:\u001b[49m\u001b[43m \u001b[49m\u001b[43mmessages\u001b[49m\u001b[43m,\u001b[49m\n\u001b[32m   1092\u001b[39m \u001b[43m                \u001b[49m\u001b[33;43m\"\u001b[39;49m\u001b[33;43mmodel\u001b[39;49m\u001b[33;43m\"\u001b[39;49m\u001b[43m:\u001b[49m\u001b[43m \u001b[49m\u001b[43mmodel\u001b[49m\u001b[43m,\u001b[49m\n\u001b[32m   1093\u001b[39m \u001b[43m                \u001b[49m\u001b[33;43m\"\u001b[39;49m\u001b[33;43maudio\u001b[39;49m\u001b[33;43m\"\u001b[39;49m\u001b[43m:\u001b[49m\u001b[43m \u001b[49m\u001b[43maudio\u001b[49m\u001b[43m,\u001b[49m\n\u001b[32m   1094\u001b[39m \u001b[43m                \u001b[49m\u001b[33;43m\"\u001b[39;49m\u001b[33;43mfrequency_penalty\u001b[39;49m\u001b[33;43m\"\u001b[39;49m\u001b[43m:\u001b[49m\u001b[43m \u001b[49m\u001b[43mfrequency_penalty\u001b[49m\u001b[43m,\u001b[49m\n\u001b[32m   1095\u001b[39m \u001b[43m                \u001b[49m\u001b[33;43m\"\u001b[39;49m\u001b[33;43mfunction_call\u001b[39;49m\u001b[33;43m\"\u001b[39;49m\u001b[43m:\u001b[49m\u001b[43m \u001b[49m\u001b[43mfunction_call\u001b[49m\u001b[43m,\u001b[49m\n\u001b[32m   1096\u001b[39m \u001b[43m                \u001b[49m\u001b[33;43m\"\u001b[39;49m\u001b[33;43mfunctions\u001b[39;49m\u001b[33;43m\"\u001b[39;49m\u001b[43m:\u001b[49m\u001b[43m \u001b[49m\u001b[43mfunctions\u001b[49m\u001b[43m,\u001b[49m\n\u001b[32m   1097\u001b[39m \u001b[43m                \u001b[49m\u001b[33;43m\"\u001b[39;49m\u001b[33;43mlogit_bias\u001b[39;49m\u001b[33;43m\"\u001b[39;49m\u001b[43m:\u001b[49m\u001b[43m \u001b[49m\u001b[43mlogit_bias\u001b[49m\u001b[43m,\u001b[49m\n\u001b[32m   1098\u001b[39m \u001b[43m                \u001b[49m\u001b[33;43m\"\u001b[39;49m\u001b[33;43mlogprobs\u001b[39;49m\u001b[33;43m\"\u001b[39;49m\u001b[43m:\u001b[49m\u001b[43m \u001b[49m\u001b[43mlogprobs\u001b[49m\u001b[43m,\u001b[49m\n\u001b[32m   1099\u001b[39m \u001b[43m                \u001b[49m\u001b[33;43m\"\u001b[39;49m\u001b[33;43mmax_completion_tokens\u001b[39;49m\u001b[33;43m\"\u001b[39;49m\u001b[43m:\u001b[49m\u001b[43m \u001b[49m\u001b[43mmax_completion_tokens\u001b[49m\u001b[43m,\u001b[49m\n\u001b[32m   1100\u001b[39m \u001b[43m                \u001b[49m\u001b[33;43m\"\u001b[39;49m\u001b[33;43mmax_tokens\u001b[39;49m\u001b[33;43m\"\u001b[39;49m\u001b[43m:\u001b[49m\u001b[43m \u001b[49m\u001b[43mmax_tokens\u001b[49m\u001b[43m,\u001b[49m\n\u001b[32m   1101\u001b[39m \u001b[43m                \u001b[49m\u001b[33;43m\"\u001b[39;49m\u001b[33;43mmetadata\u001b[39;49m\u001b[33;43m\"\u001b[39;49m\u001b[43m:\u001b[49m\u001b[43m \u001b[49m\u001b[43mmetadata\u001b[49m\u001b[43m,\u001b[49m\n\u001b[32m   1102\u001b[39m \u001b[43m                \u001b[49m\u001b[33;43m\"\u001b[39;49m\u001b[33;43mmodalities\u001b[39;49m\u001b[33;43m\"\u001b[39;49m\u001b[43m:\u001b[49m\u001b[43m \u001b[49m\u001b[43mmodalities\u001b[49m\u001b[43m,\u001b[49m\n\u001b[32m   1103\u001b[39m \u001b[43m                \u001b[49m\u001b[33;43m\"\u001b[39;49m\u001b[33;43mn\u001b[39;49m\u001b[33;43m\"\u001b[39;49m\u001b[43m:\u001b[49m\u001b[43m \u001b[49m\u001b[43mn\u001b[49m\u001b[43m,\u001b[49m\n\u001b[32m   1104\u001b[39m \u001b[43m                \u001b[49m\u001b[33;43m\"\u001b[39;49m\u001b[33;43mparallel_tool_calls\u001b[39;49m\u001b[33;43m\"\u001b[39;49m\u001b[43m:\u001b[49m\u001b[43m \u001b[49m\u001b[43mparallel_tool_calls\u001b[49m\u001b[43m,\u001b[49m\n\u001b[32m   1105\u001b[39m \u001b[43m                \u001b[49m\u001b[33;43m\"\u001b[39;49m\u001b[33;43mprediction\u001b[39;49m\u001b[33;43m\"\u001b[39;49m\u001b[43m:\u001b[49m\u001b[43m \u001b[49m\u001b[43mprediction\u001b[49m\u001b[43m,\u001b[49m\n\u001b[32m   1106\u001b[39m \u001b[43m                \u001b[49m\u001b[33;43m\"\u001b[39;49m\u001b[33;43mpresence_penalty\u001b[39;49m\u001b[33;43m\"\u001b[39;49m\u001b[43m:\u001b[49m\u001b[43m \u001b[49m\u001b[43mpresence_penalty\u001b[49m\u001b[43m,\u001b[49m\n\u001b[32m   1107\u001b[39m \u001b[43m                \u001b[49m\u001b[33;43m\"\u001b[39;49m\u001b[33;43mreasoning_effort\u001b[39;49m\u001b[33;43m\"\u001b[39;49m\u001b[43m:\u001b[49m\u001b[43m \u001b[49m\u001b[43mreasoning_effort\u001b[49m\u001b[43m,\u001b[49m\n\u001b[32m   1108\u001b[39m \u001b[43m                \u001b[49m\u001b[33;43m\"\u001b[39;49m\u001b[33;43mresponse_format\u001b[39;49m\u001b[33;43m\"\u001b[39;49m\u001b[43m:\u001b[49m\u001b[43m \u001b[49m\u001b[43mresponse_format\u001b[49m\u001b[43m,\u001b[49m\n\u001b[32m   1109\u001b[39m \u001b[43m                \u001b[49m\u001b[33;43m\"\u001b[39;49m\u001b[33;43mseed\u001b[39;49m\u001b[33;43m\"\u001b[39;49m\u001b[43m:\u001b[49m\u001b[43m \u001b[49m\u001b[43mseed\u001b[49m\u001b[43m,\u001b[49m\n\u001b[32m   1110\u001b[39m \u001b[43m                \u001b[49m\u001b[33;43m\"\u001b[39;49m\u001b[33;43mservice_tier\u001b[39;49m\u001b[33;43m\"\u001b[39;49m\u001b[43m:\u001b[49m\u001b[43m \u001b[49m\u001b[43mservice_tier\u001b[49m\u001b[43m,\u001b[49m\n\u001b[32m   1111\u001b[39m \u001b[43m                \u001b[49m\u001b[33;43m\"\u001b[39;49m\u001b[33;43mstop\u001b[39;49m\u001b[33;43m\"\u001b[39;49m\u001b[43m:\u001b[49m\u001b[43m \u001b[49m\u001b[43mstop\u001b[49m\u001b[43m,\u001b[49m\n\u001b[32m   1112\u001b[39m \u001b[43m                \u001b[49m\u001b[33;43m\"\u001b[39;49m\u001b[33;43mstore\u001b[39;49m\u001b[33;43m\"\u001b[39;49m\u001b[43m:\u001b[49m\u001b[43m \u001b[49m\u001b[43mstore\u001b[49m\u001b[43m,\u001b[49m\n\u001b[32m   1113\u001b[39m \u001b[43m                \u001b[49m\u001b[33;43m\"\u001b[39;49m\u001b[33;43mstream\u001b[39;49m\u001b[33;43m\"\u001b[39;49m\u001b[43m:\u001b[49m\u001b[43m \u001b[49m\u001b[43mstream\u001b[49m\u001b[43m,\u001b[49m\n\u001b[32m   1114\u001b[39m \u001b[43m                \u001b[49m\u001b[33;43m\"\u001b[39;49m\u001b[33;43mstream_options\u001b[39;49m\u001b[33;43m\"\u001b[39;49m\u001b[43m:\u001b[49m\u001b[43m \u001b[49m\u001b[43mstream_options\u001b[49m\u001b[43m,\u001b[49m\n\u001b[32m   1115\u001b[39m \u001b[43m                \u001b[49m\u001b[33;43m\"\u001b[39;49m\u001b[33;43mtemperature\u001b[39;49m\u001b[33;43m\"\u001b[39;49m\u001b[43m:\u001b[49m\u001b[43m \u001b[49m\u001b[43mtemperature\u001b[49m\u001b[43m,\u001b[49m\n\u001b[32m   1116\u001b[39m \u001b[43m                \u001b[49m\u001b[33;43m\"\u001b[39;49m\u001b[33;43mtool_choice\u001b[39;49m\u001b[33;43m\"\u001b[39;49m\u001b[43m:\u001b[49m\u001b[43m \u001b[49m\u001b[43mtool_choice\u001b[49m\u001b[43m,\u001b[49m\n\u001b[32m   1117\u001b[39m \u001b[43m                \u001b[49m\u001b[33;43m\"\u001b[39;49m\u001b[33;43mtools\u001b[39;49m\u001b[33;43m\"\u001b[39;49m\u001b[43m:\u001b[49m\u001b[43m \u001b[49m\u001b[43mtools\u001b[49m\u001b[43m,\u001b[49m\n\u001b[32m   1118\u001b[39m \u001b[43m                \u001b[49m\u001b[33;43m\"\u001b[39;49m\u001b[33;43mtop_logprobs\u001b[39;49m\u001b[33;43m\"\u001b[39;49m\u001b[43m:\u001b[49m\u001b[43m \u001b[49m\u001b[43mtop_logprobs\u001b[49m\u001b[43m,\u001b[49m\n\u001b[32m   1119\u001b[39m \u001b[43m                \u001b[49m\u001b[33;43m\"\u001b[39;49m\u001b[33;43mtop_p\u001b[39;49m\u001b[33;43m\"\u001b[39;49m\u001b[43m:\u001b[49m\u001b[43m \u001b[49m\u001b[43mtop_p\u001b[49m\u001b[43m,\u001b[49m\n\u001b[32m   1120\u001b[39m \u001b[43m                \u001b[49m\u001b[33;43m\"\u001b[39;49m\u001b[33;43muser\u001b[39;49m\u001b[33;43m\"\u001b[39;49m\u001b[43m:\u001b[49m\u001b[43m \u001b[49m\u001b[43muser\u001b[49m\u001b[43m,\u001b[49m\n\u001b[32m   1121\u001b[39m \u001b[43m                \u001b[49m\u001b[33;43m\"\u001b[39;49m\u001b[33;43mweb_search_options\u001b[39;49m\u001b[33;43m\"\u001b[39;49m\u001b[43m:\u001b[49m\u001b[43m \u001b[49m\u001b[43mweb_search_options\u001b[49m\u001b[43m,\u001b[49m\n\u001b[32m   1122\u001b[39m \u001b[43m            \u001b[49m\u001b[43m}\u001b[49m\u001b[43m,\u001b[49m\n\u001b[32m   1123\u001b[39m \u001b[43m            \u001b[49m\u001b[43mcompletion_create_params\u001b[49m\u001b[43m.\u001b[49m\u001b[43mCompletionCreateParamsStreaming\u001b[49m\n\u001b[32m   1124\u001b[39m \u001b[43m            \u001b[49m\u001b[38;5;28;43;01mif\u001b[39;49;00m\u001b[43m \u001b[49m\u001b[43mstream\u001b[49m\n\u001b[32m   1125\u001b[39m \u001b[43m            \u001b[49m\u001b[38;5;28;43;01melse\u001b[39;49;00m\u001b[43m \u001b[49m\u001b[43mcompletion_create_params\u001b[49m\u001b[43m.\u001b[49m\u001b[43mCompletionCreateParamsNonStreaming\u001b[49m\u001b[43m,\u001b[49m\n\u001b[32m   1126\u001b[39m \u001b[43m        \u001b[49m\u001b[43m)\u001b[49m\u001b[43m,\u001b[49m\n\u001b[32m   1127\u001b[39m \u001b[43m        \u001b[49m\u001b[43moptions\u001b[49m\u001b[43m=\u001b[49m\u001b[43mmake_request_options\u001b[49m\u001b[43m(\u001b[49m\n\u001b[32m   1128\u001b[39m \u001b[43m            \u001b[49m\u001b[43mextra_headers\u001b[49m\u001b[43m=\u001b[49m\u001b[43mextra_headers\u001b[49m\u001b[43m,\u001b[49m\u001b[43m \u001b[49m\u001b[43mextra_query\u001b[49m\u001b[43m=\u001b[49m\u001b[43mextra_query\u001b[49m\u001b[43m,\u001b[49m\u001b[43m \u001b[49m\u001b[43mextra_body\u001b[49m\u001b[43m=\u001b[49m\u001b[43mextra_body\u001b[49m\u001b[43m,\u001b[49m\u001b[43m \u001b[49m\u001b[43mtimeout\u001b[49m\u001b[43m=\u001b[49m\u001b[43mtimeout\u001b[49m\n\u001b[32m   1129\u001b[39m \u001b[43m        \u001b[49m\u001b[43m)\u001b[49m\u001b[43m,\u001b[49m\n\u001b[32m   1130\u001b[39m \u001b[43m        \u001b[49m\u001b[43mcast_to\u001b[49m\u001b[43m=\u001b[49m\u001b[43mChatCompletion\u001b[49m\u001b[43m,\u001b[49m\n\u001b[32m   1131\u001b[39m \u001b[43m        \u001b[49m\u001b[43mstream\u001b[49m\u001b[43m=\u001b[49m\u001b[43mstream\u001b[49m\u001b[43m \u001b[49m\u001b[38;5;129;43;01mor\u001b[39;49;00m\u001b[43m \u001b[49m\u001b[38;5;28;43;01mFalse\u001b[39;49;00m\u001b[43m,\u001b[49m\n\u001b[32m   1132\u001b[39m \u001b[43m        \u001b[49m\u001b[43mstream_cls\u001b[49m\u001b[43m=\u001b[49m\u001b[43mStream\u001b[49m\u001b[43m[\u001b[49m\u001b[43mChatCompletionChunk\u001b[49m\u001b[43m]\u001b[49m\u001b[43m,\u001b[49m\n\u001b[32m   1133\u001b[39m \u001b[43m    \u001b[49m\u001b[43m)\u001b[49m\n",
      "\u001b[36mFile \u001b[39m\u001b[32mc:\\Learning\\.venv\\Lib\\site-packages\\openai\\_base_client.py:1249\u001b[39m, in \u001b[36mSyncAPIClient.post\u001b[39m\u001b[34m(self, path, cast_to, body, options, files, stream, stream_cls)\u001b[39m\n\u001b[32m   1235\u001b[39m \u001b[38;5;28;01mdef\u001b[39;00m\u001b[38;5;250m \u001b[39m\u001b[34mpost\u001b[39m(\n\u001b[32m   1236\u001b[39m     \u001b[38;5;28mself\u001b[39m,\n\u001b[32m   1237\u001b[39m     path: \u001b[38;5;28mstr\u001b[39m,\n\u001b[32m   (...)\u001b[39m\u001b[32m   1244\u001b[39m     stream_cls: \u001b[38;5;28mtype\u001b[39m[_StreamT] | \u001b[38;5;28;01mNone\u001b[39;00m = \u001b[38;5;28;01mNone\u001b[39;00m,\n\u001b[32m   1245\u001b[39m ) -> ResponseT | _StreamT:\n\u001b[32m   1246\u001b[39m     opts = FinalRequestOptions.construct(\n\u001b[32m   1247\u001b[39m         method=\u001b[33m\"\u001b[39m\u001b[33mpost\u001b[39m\u001b[33m\"\u001b[39m, url=path, json_data=body, files=to_httpx_files(files), **options\n\u001b[32m   1248\u001b[39m     )\n\u001b[32m-> \u001b[39m\u001b[32m1249\u001b[39m     \u001b[38;5;28;01mreturn\u001b[39;00m cast(ResponseT, \u001b[38;5;28;43mself\u001b[39;49m\u001b[43m.\u001b[49m\u001b[43mrequest\u001b[49m\u001b[43m(\u001b[49m\u001b[43mcast_to\u001b[49m\u001b[43m,\u001b[49m\u001b[43m \u001b[49m\u001b[43mopts\u001b[49m\u001b[43m,\u001b[49m\u001b[43m \u001b[49m\u001b[43mstream\u001b[49m\u001b[43m=\u001b[49m\u001b[43mstream\u001b[49m\u001b[43m,\u001b[49m\u001b[43m \u001b[49m\u001b[43mstream_cls\u001b[49m\u001b[43m=\u001b[49m\u001b[43mstream_cls\u001b[49m\u001b[43m)\u001b[49m)\n",
      "\u001b[36mFile \u001b[39m\u001b[32mc:\\Learning\\.venv\\Lib\\site-packages\\openai\\_base_client.py:1037\u001b[39m, in \u001b[36mSyncAPIClient.request\u001b[39m\u001b[34m(self, cast_to, options, stream, stream_cls)\u001b[39m\n\u001b[32m   1034\u001b[39m             err.response.read()\n\u001b[32m   1036\u001b[39m         log.debug(\u001b[33m\"\u001b[39m\u001b[33mRe-raising status error\u001b[39m\u001b[33m\"\u001b[39m)\n\u001b[32m-> \u001b[39m\u001b[32m1037\u001b[39m         \u001b[38;5;28;01mraise\u001b[39;00m \u001b[38;5;28mself\u001b[39m._make_status_error_from_response(err.response) \u001b[38;5;28;01mfrom\u001b[39;00m\u001b[38;5;250m \u001b[39m\u001b[38;5;28;01mNone\u001b[39;00m\n\u001b[32m   1039\u001b[39m     \u001b[38;5;28;01mbreak\u001b[39;00m\n\u001b[32m   1041\u001b[39m \u001b[38;5;28;01massert\u001b[39;00m response \u001b[38;5;129;01mis\u001b[39;00m \u001b[38;5;129;01mnot\u001b[39;00m \u001b[38;5;28;01mNone\u001b[39;00m, \u001b[33m\"\u001b[39m\u001b[33mcould not resolve response (should never happen)\u001b[39m\u001b[33m\"\u001b[39m\n",
      "\u001b[31mBadRequestError\u001b[39m: Error code: 400 - {'error': {'message': \"An assistant message with 'tool_calls' must be followed by tool messages responding to each 'tool_call_id'. The following tool_call_ids did not have response messages: call_lZmVj8UWEFhI5J1GVScBq8KB\", 'type': 'invalid_request_error', 'param': 'messages.[2].role', 'code': None}}"
     ]
    }
   ],
   "source": [
    "res_2=client.chat.completions.create(\n",
    "    model=deployment_name,\n",
    "    messages=messages,\n",
    "    max_tokens=2048,\n",
    "    tools=tools\n",
    ")"
   ]
  }
 ],
 "metadata": {
  "kernelspec": {
   "display_name": ".venv",
   "language": "python",
   "name": "python3"
  },
  "language_info": {
   "codemirror_mode": {
    "name": "ipython",
    "version": 3
   },
   "file_extension": ".py",
   "mimetype": "text/x-python",
   "name": "python",
   "nbconvert_exporter": "python",
   "pygments_lexer": "ipython3",
   "version": "3.12.9"
  }
 },
 "nbformat": 4,
 "nbformat_minor": 5
}
